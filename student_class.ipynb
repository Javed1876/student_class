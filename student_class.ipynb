{
  "nbformat": 4,
  "nbformat_minor": 0,
  "metadata": {
    "colab": {
      "name": "student_class.ipynb",
      "provenance": [],
      "collapsed_sections": [],
      "include_colab_link": true
    },
    "kernelspec": {
      "name": "python3",
      "display_name": "Python 3"
    },
    "language_info": {
      "name": "python"
    }
  },
  "cells": [
    {
      "cell_type": "markdown",
      "metadata": {
        "id": "view-in-github",
        "colab_type": "text"
      },
      "source": [
        "<a href=\"https://colab.research.google.com/github/Javed1876/student_class/blob/main/student_class.ipynb\" target=\"_parent\"><img src=\"https://colab.research.google.com/assets/colab-badge.svg\" alt=\"Open In Colab\"/></a>"
      ]
    },
    {
      "cell_type": "markdown",
      "source": [
        "**Student class which stores students information and grades**"
      ],
      "metadata": {
        "id": "yu7sO5uvTyAv"
      }
    },
    {
      "cell_type": "code",
      "metadata": {
        "id": "-3mtZPx2Lqt3"
      },
      "source": [
        "class Student:\n",
        "  #Keeps track of the number of students \n",
        "  num_students = 0 \n",
        "\n",
        "  def __init__(self,first,last,grade,id):\n",
        "    self.first = first \n",
        "    self.last = last \n",
        "    self.grade = grade \n",
        "    self.id = id\n",
        "    self.email = first + last + '@schools.nyc.net'\n",
        "    self.grade_track = {}\n",
        "    self.grades = {'homework':15,'test':35,'participation':20,'classwork':20,'project':10}\n",
        "    self.grade_book = {'homework':15,'test':35,'participation':20,'classwork':20,'project':10}\n",
        "    Student.num_students +=1 \n",
        "\n",
        "  #Function to retrive student's first and last name \n",
        "  def full_name(self):\n",
        "    return self.first + \" \" + self.last \n",
        "\n",
        "  #Function that allows you to input grades for each student \n",
        "  #User typ must be keys from grade_book\n",
        "  def add_grades(self,values,typ):\n",
        "    average = sum(values)/len(values)\n",
        "    typ = typ.lower()\n",
        "\n",
        "    #If grades already exist in the grade_track add newly inputed grades\n",
        "    if typ in self.grade_book.keys():\n",
        "      if typ in self.grade_track.keys():\n",
        "        self.grade_track[typ].extend(values)\n",
        "        average = sum(self.grade_track[typ])/len(self.grade_track[typ])\n",
        "        self.grades[typ]=(average/100)*self.grade_book[typ]\n",
        "      else:\n",
        "        self.grade_track[typ]= values\n",
        "        self.grades[typ] = (average/100)*self.grade_book[typ]\n",
        "\n",
        "  #Calculates the overall average of a student \n",
        "  def ovr_avg(self):\n",
        "    total = 0 \n",
        "    for x in self.grades.values():\n",
        "      total += x\n",
        "    return total"
      ],
      "execution_count": 1,
      "outputs": []
    },
    {
      "cell_type": "markdown",
      "source": [
        ""
      ],
      "metadata": {
        "id": "XU0KMN55Tq-w"
      }
    },
    {
      "cell_type": "code",
      "metadata": {
        "id": "7Dxu-YjfOCCc"
      },
      "source": [
        "stud_1 = Student('Ronimus','Badman',12,1)"
      ],
      "execution_count": 2,
      "outputs": []
    },
    {
      "cell_type": "code",
      "metadata": {
        "colab": {
          "base_uri": "https://localhost:8080/",
          "height": 35
        },
        "id": "ZpgPOPQ0Os50",
        "outputId": "ae1a71e4-417b-4af8-ab88-63b0c8d3fddb"
      },
      "source": [
        "stud_1.email"
      ],
      "execution_count": 3,
      "outputs": [
        {
          "output_type": "execute_result",
          "data": {
            "application/vnd.google.colaboratory.intrinsic+json": {
              "type": "string"
            },
            "text/plain": [
              "'RonimusBadman@schools.nyc.net'"
            ]
          },
          "metadata": {},
          "execution_count": 3
        }
      ]
    },
    {
      "cell_type": "code",
      "metadata": {
        "colab": {
          "base_uri": "https://localhost:8080/",
          "height": 35
        },
        "id": "Qym7Hx94QlNg",
        "outputId": "a0d2c70f-e25e-4063-d84a-8e8139382577"
      },
      "source": [
        "stud_1.full_name()"
      ],
      "execution_count": 4,
      "outputs": [
        {
          "output_type": "execute_result",
          "data": {
            "application/vnd.google.colaboratory.intrinsic+json": {
              "type": "string"
            },
            "text/plain": [
              "'Ronimus Badman'"
            ]
          },
          "metadata": {},
          "execution_count": 4
        }
      ]
    },
    {
      "cell_type": "code",
      "source": [
        "stud_1.add_grades([100,100,100],'homework')"
      ],
      "metadata": {
        "id": "bfKllJjhgppU"
      },
      "execution_count": 20,
      "outputs": []
    },
    {
      "cell_type": "code",
      "source": [
        "stud_1.add_grades([100,100,100],'test')\n",
        "stud_1.add_grades([100,100,100],'classwork')\n",
        "stud_1.add_grades([50],'project')"
      ],
      "metadata": {
        "id": "kIwF7KSJozv9"
      },
      "execution_count": 8,
      "outputs": []
    },
    {
      "cell_type": "code",
      "source": [
        "stud_1.grades"
      ],
      "metadata": {
        "colab": {
          "base_uri": "https://localhost:8080/"
        },
        "id": "cpSeCEC4g4aj",
        "outputId": "34192b2c-5ce7-462e-eb31-7ea6c455462c"
      },
      "execution_count": 19,
      "outputs": [
        {
          "output_type": "execute_result",
          "data": {
            "text/plain": [
              "{'classwork': 20.0,\n",
              " 'homework': 15.0,\n",
              " 'participation': 20,\n",
              " 'project': 5.0,\n",
              " 'test': 35.0}"
            ]
          },
          "metadata": {},
          "execution_count": 19
        }
      ]
    },
    {
      "cell_type": "code",
      "source": [
        "stud_1.ovr_avg()"
      ],
      "metadata": {
        "colab": {
          "base_uri": "https://localhost:8080/"
        },
        "id": "uFk3PbFfpjmM",
        "outputId": "b958f26c-8d5e-4c65-cae2-3c709a5a118a"
      },
      "execution_count": 21,
      "outputs": [
        {
          "output_type": "execute_result",
          "data": {
            "text/plain": [
              "95.0"
            ]
          },
          "metadata": {},
          "execution_count": 21
        }
      ]
    },
    {
      "cell_type": "code",
      "source": [
        "stud_2 = Student('Javed','Wiggins',12, 3)"
      ],
      "metadata": {
        "id": "oWY7Ggwfp1oG"
      },
      "execution_count": 22,
      "outputs": []
    },
    {
      "cell_type": "code",
      "source": [
        "stud_2.add_grades([100,100,100],'test')\n",
        "stud_2.add_grades([100,100,100],'participation')\n",
        "stud_2.add_grades([100,50,100],'classwork')\n",
        "stud_2.add_grades([100,100],'project')\n",
        "stud_2.add_grades([100,100,100],'homework')"
      ],
      "metadata": {
        "id": "cUNjiSDvqY0B"
      },
      "execution_count": 25,
      "outputs": []
    },
    {
      "cell_type": "code",
      "source": [
        "stud_2.grade_book"
      ],
      "metadata": {
        "colab": {
          "base_uri": "https://localhost:8080/"
        },
        "id": "fW0FjI66qmdp",
        "outputId": "046f2f82-be98-4929-d71d-841ea37026ea"
      },
      "execution_count": 27,
      "outputs": [
        {
          "output_type": "execute_result",
          "data": {
            "text/plain": [
              "{'classwork': 20,\n",
              " 'homework': 15,\n",
              " 'participation': 20,\n",
              " 'project': 10,\n",
              " 'test': 35}"
            ]
          },
          "metadata": {},
          "execution_count": 27
        }
      ]
    },
    {
      "cell_type": "code",
      "source": [
        "stud_2.grades"
      ],
      "metadata": {
        "colab": {
          "base_uri": "https://localhost:8080/"
        },
        "id": "_0UuEd9ebXEZ",
        "outputId": "183aeaf8-2c47-48eb-df1b-718684495b35"
      },
      "execution_count": 28,
      "outputs": [
        {
          "output_type": "execute_result",
          "data": {
            "text/plain": [
              "{'classwork': 16.666666666666664,\n",
              " 'homework': 15.0,\n",
              " 'participation': 20.0,\n",
              " 'project': 10.0,\n",
              " 'test': 35.0}"
            ]
          },
          "metadata": {},
          "execution_count": 28
        }
      ]
    },
    {
      "cell_type": "code",
      "source": [
        "Student.num_students"
      ],
      "metadata": {
        "colab": {
          "base_uri": "https://localhost:8080/"
        },
        "id": "XpEqgcB_qtuh",
        "outputId": "8098bc5d-a657-41db-eb6d-0c1b0e2d59bf"
      },
      "execution_count": 29,
      "outputs": [
        {
          "output_type": "execute_result",
          "data": {
            "text/plain": [
              "3"
            ]
          },
          "metadata": {},
          "execution_count": 29
        }
      ]
    },
    {
      "cell_type": "code",
      "source": [
        "print(stud_1.grades)\n",
        "print(stud_2.grades)"
      ],
      "metadata": {
        "colab": {
          "base_uri": "https://localhost:8080/"
        },
        "id": "0NxaFd6UrLe8",
        "outputId": "701bcd98-0c42-4d7a-9ee1-25c7336607aa"
      },
      "execution_count": 30,
      "outputs": [
        {
          "output_type": "stream",
          "name": "stdout",
          "text": [
            "{'homework': 15.0, 'test': 35.0, 'participation': 20, 'classwork': 20.0, 'project': 5.0}\n",
            "{'homework': 15.0, 'test': 35.0, 'participation': 20.0, 'classwork': 16.666666666666664, 'project': 10.0}\n"
          ]
        }
      ]
    }
  ]
}